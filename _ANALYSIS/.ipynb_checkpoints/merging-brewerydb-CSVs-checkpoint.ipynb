{
 "cells": [
  {
   "cell_type": "code",
   "execution_count": 1,
   "metadata": {},
   "outputs": [],
   "source": [
    "# Import Dependencies\n",
    "\n",
    "import pandas as pd\n",
    "import numpy as np"
   ]
  },
  {
   "cell_type": "code",
   "execution_count": 2,
   "metadata": {},
   "outputs": [],
   "source": [
    "# Define File Path for CSVs\n",
    "\n",
    "brew1 = \"Output/brewery_data_page001-014.csv\"\n",
    "brew2 = \"Output/brewery_data_page015-029.csv\"\n",
    "brew3 = \"Output/brewery_data_page030-044.csv\"\n",
    "brew4 = \"Output/brewery_data_page045-059.csv\"\n",
    "brew5 = \"Output/brewery_data_page060-074.csv\"\n",
    "brew6 = \"Output/brewery_data_page075-089.csv\"\n",
    "brew7 = \"Output/brewery_data_page090-104.csv\"\n",
    "brew8 = \"Output/brewery_data_page105-119.csv\"\n",
    "brew9 = \"Output/brewery_data_page120-134.csv\"\n",
    "brew10 = \"Output/brewery_data_page135-149.csv\"\n",
    "brew11 = \"Output/brewery_data_page150-164.csv\"\n",
    "brew12 = \"Output/brewery_data_page165-179.csv\"\n",
    "brew13 = \"Output/brewery_data_page180-194.csv\"\n",
    "#brew14 = \"Output/brewery_data_page195-209.csv\"\n",
    "#brew15 = \"Output/brewery_data_page210-224.csv\"\n",
    "#brew16 = \"Output/brewery_data_page225-239.csv\"\n",
    "#brew17 = \"Output/brewery_data_page240-254.csv\"\n",
    "#brew18 = \"Output/brewery_data_page255-260.csv\"\n",
    "brew19 = \"Output/brewery_data_page261.csv\""
   ]
  },
  {
   "cell_type": "code",
   "execution_count": 3,
   "metadata": {},
   "outputs": [],
   "source": [
    "# Read in CSVs\n",
    "\n",
    "brewdf1 = pd.read_csv(brew1)\n",
    "brewdf2 = pd.read_csv(brew2)\n",
    "brewdf3 = pd.read_csv(brew3)\n",
    "brewdf4 = pd.read_csv(brew4)\n",
    "brewdf5 = pd.read_csv(brew5)\n",
    "brewdf6 = pd.read_csv(brew6)\n",
    "brewdf7 = pd.read_csv(brew7)\n",
    "brewdf8 = pd.read_csv(brew8)\n",
    "brewdf9 = pd.read_csv(brew9)\n",
    "brewdf10 = pd.read_csv(brew10)\n",
    "brewdf11 = pd.read_csv(brew11)\n",
    "brewdf12 = pd.read_csv(brew12)\n",
    "brewdf13 = pd.read_csv(brew13)\n",
    "#brewdf14 = pd.read_csv(brew14)\n",
    "#brewdf15 = pd.read_csv(brew15)\n",
    "#brewdf16 = pd.read_csv(brew16)\n",
    "#brewdf17 = pd.read_csv(brew17)\n",
    "#brewdf18 = pd.read_csv(brew18)\n",
    "brewdf19 = pd.read_csv(brew19)"
   ]
  },
  {
   "cell_type": "code",
   "execution_count": 4,
   "metadata": {},
   "outputs": [
    {
     "data": {
      "text/html": [
       "<div>\n",
       "<style scoped>\n",
       "    .dataframe tbody tr th:only-of-type {\n",
       "        vertical-align: middle;\n",
       "    }\n",
       "\n",
       "    .dataframe tbody tr th {\n",
       "        vertical-align: top;\n",
       "    }\n",
       "\n",
       "    .dataframe thead th {\n",
       "        text-align: right;\n",
       "    }\n",
       "</style>\n",
       "<table border=\"1\" class=\"dataframe\">\n",
       "  <thead>\n",
       "    <tr style=\"text-align: right;\">\n",
       "      <th></th>\n",
       "      <th>Brewery Name</th>\n",
       "      <th>City</th>\n",
       "      <th>State</th>\n",
       "      <th>Country</th>\n",
       "      <th>Year Established</th>\n",
       "      <th>Still in Business?</th>\n",
       "      <th>Closed?</th>\n",
       "    </tr>\n",
       "  </thead>\n",
       "  <tbody>\n",
       "    <tr>\n",
       "      <th>0</th>\n",
       "      <td>4 Seasons Brewery</td>\n",
       "      <td>Lapeer</td>\n",
       "      <td>Michigan</td>\n",
       "      <td>UNITED STATES</td>\n",
       "      <td>2014</td>\n",
       "      <td>Y</td>\n",
       "      <td>N</td>\n",
       "    </tr>\n",
       "    <tr>\n",
       "      <th>1</th>\n",
       "      <td>40 North Brewing</td>\n",
       "      <td>Boulder</td>\n",
       "      <td>Colorado</td>\n",
       "      <td>UNITED STATES</td>\n",
       "      <td>2011</td>\n",
       "      <td>Y</td>\n",
       "      <td>N</td>\n",
       "    </tr>\n",
       "    <tr>\n",
       "      <th>2</th>\n",
       "      <td>4KD Crick Brewery</td>\n",
       "      <td>Defiance</td>\n",
       "      <td>Ohio</td>\n",
       "      <td>UNITED STATES</td>\n",
       "      <td>2016</td>\n",
       "      <td>Y</td>\n",
       "      <td>N</td>\n",
       "    </tr>\n",
       "    <tr>\n",
       "      <th>3</th>\n",
       "      <td>Karl Strauss Brewing Company</td>\n",
       "      <td>San Diego</td>\n",
       "      <td>California</td>\n",
       "      <td>UNITED STATES</td>\n",
       "      <td>1989</td>\n",
       "      <td>Y</td>\n",
       "      <td>N</td>\n",
       "    </tr>\n",
       "    <tr>\n",
       "      <th>4</th>\n",
       "      <td>7 Cent Brewery</td>\n",
       "      <td>Gisborne South</td>\n",
       "      <td>Victoria</td>\n",
       "      <td>AUSTRALIA</td>\n",
       "      <td>2012</td>\n",
       "      <td>Y</td>\n",
       "      <td>N</td>\n",
       "    </tr>\n",
       "  </tbody>\n",
       "</table>\n",
       "</div>"
      ],
      "text/plain": [
       "                   Brewery Name            City       State        Country  \\\n",
       "0             4 Seasons Brewery          Lapeer    Michigan  UNITED STATES   \n",
       "1              40 North Brewing         Boulder    Colorado  UNITED STATES   \n",
       "2             4KD Crick Brewery        Defiance        Ohio  UNITED STATES   \n",
       "3  Karl Strauss Brewing Company       San Diego  California  UNITED STATES   \n",
       "4                7 Cent Brewery  Gisborne South    Victoria      AUSTRALIA   \n",
       "\n",
       "   Year Established Still in Business? Closed?  \n",
       "0              2014                  Y       N  \n",
       "1              2011                  Y       N  \n",
       "2              2016                  Y       N  \n",
       "3              1989                  Y       N  \n",
       "4              2012                  Y       N  "
      ]
     },
     "execution_count": 4,
     "metadata": {},
     "output_type": "execute_result"
    }
   ],
   "source": [
    "# Merge CSVs\n",
    "\n",
    "brewerydf = pd.concat((brewdf1, brewdf2, brewdf3, brewdf4, brewdf5, brewdf6, brewdf7, brewdf8,\n",
    "                       brewdf9, brewdf10, brewdf11, brewdf12, brewdf13, \n",
    "                        #brewdf14, brewdf15, brewdf16, brewdf17, brewdf18, \n",
    "                        brewdf19), join=\"outer\")\n",
    "brewerydf.head()"
   ]
  },
  {
   "cell_type": "code",
   "execution_count": 5,
   "metadata": {},
   "outputs": [
    {
     "data": {
      "text/plain": [
       "Brewery Name          729\n",
       "City                  729\n",
       "State                 729\n",
       "Country               729\n",
       "Year Established      729\n",
       "Still in Business?    729\n",
       "Closed?               729\n",
       "dtype: int64"
      ]
     },
     "execution_count": 5,
     "metadata": {},
     "output_type": "execute_result"
    }
   ],
   "source": [
    "## Clean up the Data Frame\n",
    "\n",
    "# Initial count\n",
    "brewerydf.count()"
   ]
  },
  {
   "cell_type": "code",
   "execution_count": 6,
   "metadata": {},
   "outputs": [
    {
     "data": {
      "text/plain": [
       "Brewery Name          555\n",
       "City                  555\n",
       "State                 555\n",
       "Country               555\n",
       "Year Established      555\n",
       "Still in Business?    555\n",
       "Closed?               555\n",
       "dtype: int64"
      ]
     },
     "execution_count": 6,
     "metadata": {},
     "output_type": "execute_result"
    }
   ],
   "source": [
    "# Remove non-USA Breweries\n",
    "\n",
    "usabrewerydf = brewerydf.loc[(brewerydf[\"Country\"] == \"UNITED STATES\")]\n",
    "usabrewerydf.count()"
   ]
  },
  {
   "cell_type": "code",
   "execution_count": 7,
   "metadata": {},
   "outputs": [
    {
     "data": {
      "text/plain": [
       "Brewery Name          370\n",
       "City                  370\n",
       "State                 370\n",
       "Country               370\n",
       "Year Established      370\n",
       "Still in Business?    370\n",
       "Closed?               370\n",
       "dtype: int64"
      ]
     },
     "execution_count": 7,
     "metadata": {},
     "output_type": "execute_result"
    }
   ],
   "source": [
    "# Remove Breweries before 2009\n",
    "\n",
    "brewerydf2009 = usabrewerydf.loc[(usabrewerydf[\"Year Established\"] >= 2009)]\n",
    "brewerydf2009.count()"
   ]
  },
  {
   "cell_type": "code",
   "execution_count": 8,
   "metadata": {},
   "outputs": [],
   "source": [
    "# Replace \"null\" with NaN values\n",
    "\n",
    "#brewerydfnull = brewerydf2009.replace(['null'], np.nan)\n",
    "#brewerydfnull.count()"
   ]
  },
  {
   "cell_type": "code",
   "execution_count": 9,
   "metadata": {},
   "outputs": [],
   "source": [
    "# Drop all rows with missing information\n",
    "\n",
    "#cleanbrewerydf = brewerydfnull.dropna(axis=0, how='any')\n",
    "#cleanbrewerydf.count()"
   ]
  },
  {
   "cell_type": "code",
   "execution_count": 10,
   "metadata": {},
   "outputs": [
    {
     "data": {
      "text/html": [
       "<div>\n",
       "<style scoped>\n",
       "    .dataframe tbody tr th:only-of-type {\n",
       "        vertical-align: middle;\n",
       "    }\n",
       "\n",
       "    .dataframe tbody tr th {\n",
       "        vertical-align: top;\n",
       "    }\n",
       "\n",
       "    .dataframe thead th {\n",
       "        text-align: right;\n",
       "    }\n",
       "</style>\n",
       "<table border=\"1\" class=\"dataframe\">\n",
       "  <thead>\n",
       "    <tr style=\"text-align: right;\">\n",
       "      <th></th>\n",
       "      <th>Brewery Name</th>\n",
       "      <th>City</th>\n",
       "      <th>State</th>\n",
       "      <th>Country</th>\n",
       "      <th>Year Established</th>\n",
       "      <th>Still in Business?</th>\n",
       "      <th>Closed?</th>\n",
       "    </tr>\n",
       "  </thead>\n",
       "  <tbody>\n",
       "    <tr>\n",
       "      <th>0</th>\n",
       "      <td>4 Seasons Brewery</td>\n",
       "      <td>Lapeer</td>\n",
       "      <td>Michigan</td>\n",
       "      <td>UNITED STATES</td>\n",
       "      <td>2014</td>\n",
       "      <td>Y</td>\n",
       "      <td>N</td>\n",
       "    </tr>\n",
       "    <tr>\n",
       "      <th>1</th>\n",
       "      <td>40 North Brewing</td>\n",
       "      <td>Boulder</td>\n",
       "      <td>Colorado</td>\n",
       "      <td>UNITED STATES</td>\n",
       "      <td>2011</td>\n",
       "      <td>Y</td>\n",
       "      <td>N</td>\n",
       "    </tr>\n",
       "    <tr>\n",
       "      <th>2</th>\n",
       "      <td>4KD Crick Brewery</td>\n",
       "      <td>Defiance</td>\n",
       "      <td>Ohio</td>\n",
       "      <td>UNITED STATES</td>\n",
       "      <td>2016</td>\n",
       "      <td>Y</td>\n",
       "      <td>N</td>\n",
       "    </tr>\n",
       "    <tr>\n",
       "      <th>6</th>\n",
       "      <td>7 Mile Brewery</td>\n",
       "      <td>Rio Grande</td>\n",
       "      <td>New Jersey</td>\n",
       "      <td>UNITED STATES</td>\n",
       "      <td>2016</td>\n",
       "      <td>Y</td>\n",
       "      <td>N</td>\n",
       "    </tr>\n",
       "    <tr>\n",
       "      <th>7</th>\n",
       "      <td>810 Meadworks</td>\n",
       "      <td>Medina</td>\n",
       "      <td>New York</td>\n",
       "      <td>UNITED STATES</td>\n",
       "      <td>2014</td>\n",
       "      <td>Y</td>\n",
       "      <td>N</td>\n",
       "    </tr>\n",
       "  </tbody>\n",
       "</table>\n",
       "</div>"
      ],
      "text/plain": [
       "        Brewery Name        City       State        Country  Year Established  \\\n",
       "0  4 Seasons Brewery      Lapeer    Michigan  UNITED STATES              2014   \n",
       "1   40 North Brewing     Boulder    Colorado  UNITED STATES              2011   \n",
       "2  4KD Crick Brewery    Defiance        Ohio  UNITED STATES              2016   \n",
       "6     7 Mile Brewery  Rio Grande  New Jersey  UNITED STATES              2016   \n",
       "7      810 Meadworks      Medina    New York  UNITED STATES              2014   \n",
       "\n",
       "  Still in Business? Closed?  \n",
       "0                  Y       N  \n",
       "1                  Y       N  \n",
       "2                  Y       N  \n",
       "6                  Y       N  \n",
       "7                  Y       N  "
      ]
     },
     "execution_count": 10,
     "metadata": {},
     "output_type": "execute_result"
    }
   ],
   "source": [
    "final_df = brewerydf2009\n",
    "final_df.head()"
   ]
  },
  {
   "cell_type": "code",
   "execution_count": 11,
   "metadata": {},
   "outputs": [],
   "source": [
    "# Export Merged & Cleaned CSV\n",
    "\n",
    "final_df.to_csv(\"Output/brewerydb_final.csv\",\n",
    "                   encoding=\"utf-8\", index=False, header=True)"
   ]
  },
  {
   "cell_type": "code",
   "execution_count": null,
   "metadata": {},
   "outputs": [],
   "source": []
  }
 ],
 "metadata": {
  "kernelspec": {
   "display_name": "Python 3",
   "language": "python",
   "name": "python3"
  },
  "language_info": {
   "codemirror_mode": {
    "name": "ipython",
    "version": 3
   },
   "file_extension": ".py",
   "mimetype": "text/x-python",
   "name": "python",
   "nbconvert_exporter": "python",
   "pygments_lexer": "ipython3",
   "version": "3.6.6"
  }
 },
 "nbformat": 4,
 "nbformat_minor": 2
}
